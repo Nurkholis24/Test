{
  "metadata": {
    "language_info": {
      "codemirror_mode": {
        "name": "python",
        "version": 3
      },
      "file_extension": ".py",
      "mimetype": "text/x-python",
      "name": "python",
      "nbconvert_exporter": "python",
      "pygments_lexer": "ipython3",
      "version": "3.8"
    },
    "kernelspec": {
      "name": "python",
      "display_name": "Pyolite",
      "language": "python"
    }
  },
  "nbformat_minor": 4,
  "nbformat": 4,
  "cells": [
    {
      "cell_type": "markdown",
      "source": "# My Jupyter Notebook on IBM Watson Studio",
      "metadata": {}
    },
    {
      "cell_type": "markdown",
      "source": "My name is **Nurkholis**, <br>I am Student",
      "metadata": {}
    },
    {
      "cell_type": "markdown",
      "source": "<em> I am interested in data science because i really like and interested to learning about a data. </em>",
      "metadata": {}
    },
    {
      "cell_type": "markdown",
      "source": "### In Cell 5 you can learn about sum of two numbers, in my cases just using 3 + 5 and get the answer is equal 8",
      "metadata": {}
    },
    {
      "cell_type": "code",
      "source": "3 + 5",
      "metadata": {
        "trusted": true
      },
      "execution_count": 1,
      "outputs": [
        {
          "execution_count": 1,
          "output_type": "execute_result",
          "data": {
            "text/plain": "8"
          },
          "metadata": {}
        }
      ]
    },
    {
      "cell_type": "markdown",
      "source": " <h4> What is Weather? </h4> <br> - The day-to-day conditions of the atmosphere at a place with respect to elements like humidity, temperature, wind speed, rainfall, etc. is called the weather of that place.\n- Weather can be cloudy, sunny, rainy, stormy or clear. It is a part of the natural phenomenon which maintains the equilibrium in the atmosphere.\n- But conditions can be worse sometimes. When the atmospheric conditions are extreme or intense enough to cause property loss or life loss, such weather is termed as severe weather.\n- These also vary according to the altitudes, latitudes, and region and pressure differences. Tornadoes, cyclones, heavy rainfall, fog, winter storms come under this category. They are disastrous and hazardous. Proper [disaster management](https://byjus.com/physics/safety-measures-technology/) and strategies are required to handle these conditions\n\n--- \n**<p> Elements of Weather: </p>**\n1. Wind speed;\n2. Humidity;\n3. Temperature;\n4. Rainfall;\n5. Thunder;\n6. Snow;\n7. Lightning;\n>\n> **Source:** [BYJU'S](https://byjus.com/physics/weather/)\n",
      "metadata": {}
    }
  ]
}
